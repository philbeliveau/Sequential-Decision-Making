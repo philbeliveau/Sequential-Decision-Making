{
 "cells": [
  {
   "cell_type": "code",
   "execution_count": null,
   "metadata": {
    "id": "ecL4PmJP03TZ"
   },
   "outputs": [],
   "source": [
    "import numpy as np\n",
    "import pandas as pd\n",
    "\n",
    "# Define the price paths (replace with your actual data)\n",
    "price_paths = np.array([\n",
    "    [42.67, 45.53, 47.07, 47.56, 47.80, 48.43, 46.93, 46.57],\n",
    "    [46.35, 43.15, 42.51, 40.51, 41.50, 41.00, 39.16, 41.11],\n",
    "    [43.17, 45.16, 45.37, 44.30, 45.35, 47.23, 47.35, 46.30],\n",
    "    [45.24, 45.67, 46.18, 46.22, 45.69, 44.24, 43.77, 43.57],\n",
    "    [47.68, 46.32, 46.14, 41.53, 44.84, 45.17, 44.92, 46.09],\n",
    "    [47.83, 44.70, 43.05, 43.77, 42.61, 44.32, 44.16, 45.29],\n",
    "    [45.11, 43.67, 43.14, 44.78, 43.12, 42.36, 41.60, 40.83],\n",
    "    [46.78, 44.98, 44.53, 45.42, 46.43, 47.67, 47.68, 49.03],\n",
    "    [43.16, 44.57, 45.99, 47.38, 45.51, 46.27, 46.02, 45.09],\n",
    "    [46.57, 45.01, 46.73, 46.08, 47.40, 49.14, 49.03, 48.74]\n",
    "])\n",
    "\n"
   ]
  },
  {
   "cell_type": "code",
   "execution_count": null,
   "metadata": {
    "id": "GErZK0R3S-pw"
   },
   "outputs": [],
   "source": [
    "# Parameters for the error distribution\n",
    "mean = 10  # Mean of the distribution\n",
    "std_deviation = 5  # Standard deviation of the distribution\n",
    "num_samples = 1  # Number of data points\n",
    "\n",
    "# Generate random errors following a normal distribution\n",
    "errors = np.random.normal(mean, std_deviation, num_samples)"
   ]
  },
  {
   "cell_type": "code",
   "execution_count": null,
   "metadata": {
    "id": "Zqe6UAsptItZ"
   },
   "outputs": [],
   "source": [
    "def Smooth_price(df, alpha, error):\n",
    "    # Smooth the price using the sample Pt\n",
    "    SmoothedPrice_list = []\n",
    "    for _, row in df.iterrows():\n",
    "        stock_price = []\n",
    "        for p in row[1:]:\n",
    "            price = (1-alpha)*p-1 + alpha*error\n",
    "            stock_price.append(price)\n",
    "        SmoothedPrice_list.append(stock_price)\n",
    "    df_smoothedPrice = pd.DataFrame(SmoothedPrice_list)\n",
    "    return df_smoothedPrice\n",
    "df_smoothedPrice = Smooth_price(pd.DataFrame(price_paths), 0.1, errors)\n",
    "smoothedPrice = np.array(df_smoothedPrice)"
   ]
  },
  {
   "cell_type": "code",
   "execution_count": null,
   "metadata": {
    "colab": {
     "base_uri": "https://localhost:8080/"
    },
    "id": "myPpAruNnZw5",
    "outputId": "5b1ebae8-2316-4355-beea-15cdd06f95e0"
   },
   "outputs": [
    {
     "data": {
      "text/plain": [
       "array([[41.50696819, 42.89296819, 43.33396819, 43.54996819, 44.11696819,\n",
       "        42.76696819, 42.44296819],\n",
       "       [39.36496819, 38.78896819, 36.98896819, 37.87996819, 37.42996819,\n",
       "        35.77396819, 37.52896819],\n",
       "       [41.17396819, 41.36296819, 40.39996819, 41.34496819, 43.03696819,\n",
       "        43.14496819, 42.19996819],\n",
       "       [41.63296819, 42.09196819, 42.12796819, 41.65096819, 40.34596819,\n",
       "        39.92296819, 39.74296819],\n",
       "       [42.21796819, 42.05596819, 37.90696819, 40.88596819, 41.18296819,\n",
       "        40.95796819, 42.01096819],\n",
       "       [40.75996819, 39.27496819, 39.92296819, 38.87896819, 40.41796819,\n",
       "        40.27396819, 41.29096819],\n",
       "       [39.83296819, 39.35596819, 40.83196819, 39.33796819, 38.65396819,\n",
       "        37.96996819, 37.27696819],\n",
       "       [41.01196819, 40.60696819, 41.40796819, 42.31696819, 43.43296819,\n",
       "        43.44196819, 44.65696819],\n",
       "       [40.64296819, 41.92096819, 43.17196819, 41.48896819, 42.17296819,\n",
       "        41.94796819, 41.11096819],\n",
       "       [41.03896819, 42.58696819, 42.00196819, 43.18996819, 44.75596819,\n",
       "        44.65696819, 44.39596819]])"
      ]
     },
     "execution_count": 161,
     "metadata": {},
     "output_type": "execute_result"
    }
   ],
   "source": [
    "smoothedPrice = np.array([[float(arr[0]) for arr in row] for row in smoothedPrice])\n",
    "smoothedPrice"
   ]
  },
  {
   "cell_type": "code",
   "execution_count": null,
   "metadata": {
    "colab": {
     "base_uri": "https://localhost:8080/"
    },
    "id": "QsXEwYK3nzRV",
    "outputId": "42cdb89c-340d-4409-889f-af0c7204f2c7"
   },
   "outputs": [
    {
     "data": {
      "text/plain": [
       "array([[42.67, 45.53, 47.07, 47.56, 47.8 , 48.43, 46.93, 46.57],\n",
       "       [46.35, 43.15, 42.51, 40.51, 41.5 , 41.  , 39.16, 41.11],\n",
       "       [43.17, 45.16, 45.37, 44.3 , 45.35, 47.23, 47.35, 46.3 ],\n",
       "       [45.24, 45.67, 46.18, 46.22, 45.69, 44.24, 43.77, 43.57],\n",
       "       [47.68, 46.32, 46.14, 41.53, 44.84, 45.17, 44.92, 46.09],\n",
       "       [47.83, 44.7 , 43.05, 43.77, 42.61, 44.32, 44.16, 45.29],\n",
       "       [45.11, 43.67, 43.14, 44.78, 43.12, 42.36, 41.6 , 40.83],\n",
       "       [46.78, 44.98, 44.53, 45.42, 46.43, 47.67, 47.68, 49.03],\n",
       "       [43.16, 44.57, 45.99, 47.38, 45.51, 46.27, 46.02, 45.09],\n",
       "       [46.57, 45.01, 46.73, 46.08, 47.4 , 49.14, 49.03, 48.74]])"
      ]
     },
     "execution_count": 153,
     "metadata": {},
     "output_type": "execute_result"
    }
   ],
   "source": [
    "price_paths"
   ]
  },
  {
   "cell_type": "code",
   "execution_count": null,
   "metadata": {
    "colab": {
     "base_uri": "https://localhost:8080/"
    },
    "id": "6P7pC6UJv4M6",
    "outputId": "82dc73d8-8b42-4b87-edfa-f0b8c0d90793"
   },
   "outputs": [
    {
     "name": "stdout",
     "output_type": "stream",
     "text": [
      "45.53 - 41.506968192023315 = 4.023031807976686\n",
      "47.07 - 42.89296819202331 = 4.1770318079766895\n",
      "47.56 - 43.33396819202331 = 4.226031807976689\n",
      "47.8 - 43.54996819202331 = 4.25003180797669\n",
      "48.43 - 44.116968192023315 = 4.313031807976685\n",
      "46.93 - 42.76696819202331 = 4.163031807976687\n",
      "46.57 - 42.442968192023315 = 4.127031807976685\n",
      "43.15 - 39.36496819202331 = 3.7850318079766865\n",
      "42.51 - 38.78896819202331 = 3.7210318079766864\n",
      "40.51 - 36.98896819202331 = 3.5210318079766907\n",
      "41.5 - 37.87996819202331 = 3.6200318079766873\n",
      "41.0 - 37.42996819202331 = 3.57003180797669\n",
      "39.16 - 35.77396819202331 = 3.3860318079766856\n",
      "41.11 - 37.528968192023314 = 3.581031807976686\n",
      "45.16 - 41.17396819202331 = 3.986031807976687\n",
      "45.37 - 41.36296819202331 = 4.007031807976688\n",
      "44.3 - 40.39996819202331 = 3.9000318079766885\n",
      "45.35 - 41.344968192023316 = 4.005031807976685\n",
      "47.23 - 43.03696819202331 = 4.193031807976688\n",
      "47.35 - 43.14496819202331 = 4.205031807976688\n",
      "46.3 - 42.19996819202331 = 4.100031807976684\n",
      "45.67 - 41.63296819202331 = 4.037031807976689\n",
      "46.18 - 42.09196819202331 = 4.088031807976691\n",
      "46.22 - 42.12796819202331 = 4.092031807976689\n",
      "45.69 - 41.65096819202331 = 4.039031807976684\n",
      "44.24 - 40.345968192023314 = 3.8940318079766882\n",
      "43.77 - 39.92296819202331 = 3.847031807976691\n",
      "43.57 - 39.74296819202331 = 3.827031807976688\n",
      "46.32 - 42.217968192023314 = 4.102031807976687\n",
      "46.14 - 42.055968192023315 = 4.084031807976686\n",
      "41.53 - 37.906968192023314 = 3.6230318079766874\n",
      "44.84 - 40.88596819202331 = 3.9540318079766905\n",
      "45.17 - 41.18296819202332 = 3.9870318079766847\n",
      "44.92 - 40.957968192023316 = 3.962031807976686\n",
      "46.09 - 42.01096819202331 = 4.0790318079766905\n",
      "44.7 - 40.759968192023315 = 3.9400318079766876\n",
      "43.05 - 39.27496819202331 = 3.7750318079766885\n",
      "43.77 - 39.92296819202331 = 3.847031807976691\n",
      "42.61 - 38.878968192023315 = 3.7310318079766844\n",
      "44.32 - 40.41796819202331 = 3.902031807976691\n",
      "44.16 - 40.27396819202331 = 3.8860318079766856\n",
      "45.29 - 41.290968192023314 = 3.999031807976685\n",
      "43.67 - 39.832968192023316 = 3.837031807976686\n",
      "43.14 - 39.35596819202331 = 3.784031807976689\n",
      "44.78 - 40.83196819202331 = 3.9480318079766903\n",
      "43.12 - 39.33796819202331 = 3.7820318079766864\n",
      "42.36 - 38.653968192023314 = 3.706031807976686\n",
      "41.6 - 37.969968192023316 = 3.6300318079766853\n",
      "40.83 - 37.27696819202331 = 3.553031807976687\n",
      "44.98 - 41.01196819202331 = 3.9680318079766863\n",
      "44.53 - 40.60696819202332 = 3.9230318079766846\n",
      "45.42 - 41.40796819202331 = 4.01203180797669\n",
      "46.43 - 42.31696819202331 = 4.113031807976689\n",
      "47.67 - 43.43296819202332 = 4.237031807976685\n",
      "47.68 - 43.44196819202331 = 4.238031807976689\n",
      "49.03 - 44.656968192023314 = 4.3730318079766874\n",
      "44.57 - 40.64296819202331 = 3.9270318079766895\n",
      "45.99 - 41.92096819202332 = 4.069031807976685\n",
      "47.38 - 43.171968192023314 = 4.208031807976688\n",
      "45.51 - 41.48896819202331 = 4.021031807976691\n",
      "46.27 - 42.17296819202331 = 4.097031807976691\n",
      "46.02 - 41.94796819202332 = 4.0720318079766855\n",
      "45.09 - 41.110968192023314 = 3.979031807976689\n",
      "45.01 - 41.03896819202331 = 3.9710318079766864\n",
      "46.73 - 42.586968192023306 = 4.143031807976691\n",
      "46.08 - 42.00196819202331 = 4.078031807976686\n",
      "47.4 - 43.18996819202331 = 4.210031807976691\n",
      "49.14 - 44.75596819202331 = 4.38403180797669\n",
      "49.03 - 44.656968192023314 = 4.3730318079766874\n",
      "48.74 - 44.39596819202331 = 4.344031807976691\n"
     ]
    }
   ],
   "source": [
    "for n in range(num_price_paths):\n",
    "        price_path = price_paths[n]\n",
    "        smoothed_Prices = smoothedPrice[n]\n",
    "        for t in range(num_time_periods):\n",
    "          if t > 0:\n",
    "            difference = price_path[t] - smoothed_Prices[t-1]\n",
    "            print(f\"{price_path[t]} - {smoothed_Prices[t - 1]} = {difference}\")"
   ]
  },
  {
   "cell_type": "markdown",
   "metadata": {
    "id": "HtE-jn_f5LqR"
   },
   "source": [
    "## Monte carlo simulation"
   ]
  },
  {
   "cell_type": "code",
   "execution_count": null,
   "metadata": {
    "id": "Ni5kiMSA6oUZ"
   },
   "outputs": [],
   "source": [
    "seed_value = 42  # You can choose any integer value as the seednp.random.seed(seed_value)\n",
    "\n",
    "# Generate random numbers using np.random.uniform()theta_track = np.random.uniform(0, 5)"
   ]
  },
  {
   "cell_type": "code",
   "execution_count": null,
   "metadata": {
    "colab": {
     "base_uri": "https://localhost:8080/"
    },
    "id": "2IaMNFqWucQ6",
    "outputId": "afe08d16-c5ea-4be7-d2cd-a5f0bfdf4507"
   },
   "outputs": [
    {
     "data": {
      "text/plain": [
       "8"
      ]
     },
     "execution_count": 169,
     "metadata": {},
     "output_type": "execute_result"
    }
   ],
   "source": [
    "num_time_periods"
   ]
  },
  {
   "cell_type": "code",
   "execution_count": null,
   "metadata": {
    "colab": {
     "base_uri": "https://localhost:8080/"
    },
    "id": "l2Syrs0GUaQD",
    "outputId": "6bccb680-7449-42d5-a739-62514243776b"
   },
   "outputs": [
    {
     "name": "stdout",
     "output_type": "stream",
     "text": [
      "38.74540118847362\n",
      "4.1\n",
      "47.07\n",
      "41.11\n",
      "47.23\n",
      "43.57\n",
      "46.32\n",
      "45.29\n",
      "40.83\n",
      "46.43\n",
      "47.38\n",
      "46.73\n",
      "42.31993941811405\n",
      "4.1\n",
      "47.07\n",
      "41.11\n",
      "47.23\n",
      "43.57\n",
      "46.32\n",
      "45.29\n",
      "40.83\n",
      "46.43\n",
      "47.38\n",
      "46.73\n",
      "Best Theta Low:for sell low policy 38.74540118847362\n",
      "Best Average Performance: for sell low policy 45.262\n",
      "Best Theta Low for high-low policy: 42.31993941811405\n",
      "Best Theta High for high-low policy: 45.98658484197037\n",
      "Best Average Performancefor high-low policy: 46.327999999999996\n",
      "Best Theta Track:for tracking policy 4.1\n",
      "Best Average Performance: for tracking policy 45.196000000000005\n"
     ]
    }
   ],
   "source": [
    "import random\n",
    "# Define the number of simulations, price paths, and time periods\n",
    "num_simulations = 1000\n",
    "num_price_paths = price_paths.shape[0]\n",
    "num_time_periods = price_paths.shape[1]\n",
    "\n",
    "# Initialize variables\n",
    "best_theta_low = None\n",
    "best_theta_high = None\n",
    "best_theta_track = None\n",
    "best_average_performance = -np.inf\n",
    "best_average_performance_a= -np.inf\n",
    "best_average_performance_c= -np.inf\n",
    "\n",
    "# Perform Monte Carlo simulations\n",
    "np.random.seed(42)\n",
    "for _ in range(num_simulations):\n",
    "    theta_low = np.random.uniform(35, 45)\n",
    "    theta_high = np.random.uniform(40, 50)\n",
    "    theta_track = np.random.uniform(0, 10)\n",
    "\n",
    "    policy_b_results = []\n",
    "    policy_a_results = []\n",
    "    policy_c_results = []\n",
    "    for n in range(num_price_paths):\n",
    "        price_path = price_paths[n]\n",
    "        smoothed_Prices = smoothedPrice[n]\n",
    "        Rt = 1\n",
    "        Rtb = 1\n",
    "        Rtc = 1\n",
    "        for t in range(num_time_periods):\n",
    "            #print(t)\n",
    "            price = price_path[t]\n",
    "            smoothed_price = smoothed_Prices[t-1]\n",
    "            # \"sell low\" policy\n",
    "            if price < theta_low and Rt == 1:\n",
    "                policy_b_results.append(price)\n",
    "                Rt = 0\n",
    "                #print(price)\n",
    "            if t == num_time_periods-1 and Rt == 1:\n",
    "                Rt = 0\n",
    "                policy_b_results.append(price)\n",
    "                #print(price)\n",
    "            # high low policy\n",
    "            if (price < theta_low and Rtb == 1) or (price > theta_high and Rtb == 1) :\n",
    "                policy_a_results.append(price)\n",
    "                Rtb = 0\n",
    "                #print(price)\n",
    "            if t == num_time_periods-1 and Rtb == 1:\n",
    "                Rtb = 0\n",
    "                policy_a_results.append(price)\n",
    "                #print(price)\n",
    "            # tracking policy\n",
    "            if t > 0 and time > 0 and price >= smoothed_price + theta_track and Rtc == 1:\n",
    "              Rtc = 0\n",
    "              policy_c_results.append(price)\n",
    "              #print(price)\n",
    "            time = time + 1\n",
    "            if t == num_time_periods-1 and Rtc == 1:\n",
    "              Rtc = 0\n",
    "              policy_c_results.append(price)\n",
    "              #print(price)\n",
    "    # Calculate the average performance measure sell low policy\n",
    "    average_performance = np.mean(policy_b_results)\n",
    "\n",
    "    if average_performance > best_average_performance:\n",
    "        best_average_performance = average_performance\n",
    "        best_theta_low = theta_low\n",
    "\n",
    "    # Calculate the average performance measure high low policy\n",
    "    average_performance_a = np.mean(policy_a_results)\n",
    "\n",
    "    if average_performance_a > best_average_performance_a:\n",
    "        best_average_performance_a = average_performance_a\n",
    "        best_theta_low_a = theta_low\n",
    "        best_theta_high_a = theta_high\n",
    "    # Calculate the average performance measure tracking policy\n",
    "    average_performance_c = np.mean(policy_c_results)\n",
    "\n",
    "    if average_performance_c > best_average_performance_c:\n",
    "        best_average_performance_c = average_performance_c\n",
    "        best_theta_track_c = theta_track\n",
    "\n",
    "# the best parameter\n",
    "print(\"Best Theta Low:for sell low policy\", best_theta_low)\n",
    "print(\"Best Average Performance: for sell low policy\", best_average_performance)\n",
    "\n",
    "print(\"Best Theta Low for high-low policy:\", best_theta_low_a)\n",
    "print(\"Best Theta High for high-low policy:\", best_theta_high_a)\n",
    "print(\"Best Average Performancefor high-low policy:\", best_average_performance_a)\n",
    "\n",
    "print(\"Best Theta Track:for tracking policy\", best_theta_track_c)\n",
    "print(\"Best Average Performance: for tracking policy\", best_average_performance_c)\n"
   ]
  },
  {
   "cell_type": "markdown",
   "metadata": {
    "id": "dxtnz8nP5TL0"
   },
   "source": []
  },
  {
   "cell_type": "code",
   "execution_count": null,
   "metadata": {
    "id": "43KR0Gajm76W"
   },
   "outputs": [],
   "source": [
    "\n",
    "SL_results = []\n",
    "HL_results = []\n",
    "TR_results= []\n",
    "pricedelta_hlsl = []\n",
    "pricedelta_trsl = []\n",
    "pricedelta_hlsl = []\n",
    "pricedelta_hltr = []\n",
    "for n in range(num_price_paths):\n",
    "        price_path = price_paths[n]\n",
    "        smoothed_Prices = smoothedPrice[n]\n",
    "        Rt = 1\n",
    "        Rtb = 1\n",
    "        Rtc = 1\n",
    "        for t in range(num_time_periods):\n",
    "            price = price_path[t]\n",
    "            smoothed_price = smoothed_Prices[t-1]\n",
    "            time = 0\n",
    "            # \"sell low\" policy\n",
    "            if price < best_theta_low and Rt == 1:\n",
    "                Rt = 0\n",
    "                price_sl = price\n",
    "            if t == num_time_periods-1 and Rt == 1:\n",
    "                Rt = 0\n",
    "                price_sl = price\n",
    "            # high low policy\n",
    "            if (price < best_theta_low_a and Rtb == 1) or (price > best_theta_high_a and Rtb == 1) :\n",
    "                Rtb = 0\n",
    "                price_hl = price\n",
    "            if t == num_time_periods-1 and Rtb == 1:\n",
    "                Rtb = 0\n",
    "                price_hl = price\n",
    "            # tracking policy\n",
    "            if (t > 0 and time > 0 and price < smoothed_price + best_theta_track_c and Rtc == 1):\n",
    "              Rtc = 0\n",
    "              price_tr = price\n",
    "            time = time + 1\n",
    "            if (t == num_time_periods-1 and Rtc == 1):\n",
    "              Rtc = 0\n",
    "              price_tr = price\n",
    "\n",
    "        SL_results.append(price_sl)\n",
    "        HL_results.append(price_hl)\n",
    "        TR_results.append(price_tr)\n",
    "        pricedelta_HL_SL = price_hl - price_sl\n",
    "        pricedelta_hlsl.append(pricedelta_HL_SL)\n",
    "        pricedelta_HL_TR = price_hl - price_tr\n",
    "        pricedelta_hltr.append(pricedelta_HL_TR)\n",
    "        pricedelta_TR_SL = price_tr - price_sl\n",
    "        pricedelta_trsl.append(pricedelta_TR_SL)\n",
    "\n",
    "\n"
   ]
  },
  {
   "cell_type": "code",
   "execution_count": null,
   "metadata": {
    "colab": {
     "base_uri": "https://localhost:8080/"
    },
    "id": "dGkqk9PXnwFm",
    "outputId": "c8946730-790b-4086-c1d2-5f21eed6e8bf"
   },
   "outputs": [
    {
     "data": {
      "text/plain": [
       "45.262"
      ]
     },
     "execution_count": 138,
     "metadata": {},
     "output_type": "execute_result"
    }
   ],
   "source": [
    "np.mean(SL_results)"
   ]
  },
  {
   "cell_type": "code",
   "execution_count": null,
   "metadata": {
    "colab": {
     "base_uri": "https://localhost:8080/"
    },
    "id": "407kXitzn1wH",
    "outputId": "000a30a6-0601-403c-e362-e99bf82d5ca2"
   },
   "outputs": [
    {
     "data": {
      "text/plain": [
       "46.547"
      ]
     },
     "execution_count": 119,
     "metadata": {},
     "output_type": "execute_result"
    }
   ],
   "source": [
    "np.mean(HL_results)"
   ]
  },
  {
   "cell_type": "code",
   "execution_count": null,
   "metadata": {
    "colab": {
     "base_uri": "https://localhost:8080/"
    },
    "id": "Z7AkwsEan_NM",
    "outputId": "e6f5c991-fb4b-4223-8dcd-b6f7cb6087b1"
   },
   "outputs": [
    {
     "data": {
      "text/plain": [
       "45.262"
      ]
     },
     "execution_count": 127,
     "metadata": {},
     "output_type": "execute_result"
    }
   ],
   "source": [
    "np.mean(TR_results)"
   ]
  },
  {
   "cell_type": "code",
   "execution_count": null,
   "metadata": {
    "colab": {
     "base_uri": "https://localhost:8080/"
    },
    "id": "WE8nxC2Wq9Wy",
    "outputId": "4f3efa8b-6911-40dd-d82e-b84025f82dde"
   },
   "outputs": [
    {
     "name": "stdout",
     "output_type": "stream",
     "text": [
      "Average to difference of sold price between sell low policy and highlow policy: 1.2849999999999995\n",
      "C95% confidence interval for average of the difference of sold price between sell low policy and highlow policy: (-0.32201372619522894, 2.892013726195228)\n"
     ]
    }
   ],
   "source": [
    "from scipy import stats\n",
    "\n",
    "mean = np.mean(pricedelta_hlsl)\n",
    "\n",
    "sem = stats.sem(pricedelta_hlsl)\n",
    "\n",
    "confidence_level = 0.95\n",
    "degrees_of_freedom = len(pricedelta_hlsl) - 1\n",
    "\n",
    "# Calculate the margin of error\n",
    "margin_error = sem * stats.t.ppf((1 + confidence_level) / 2, degrees_of_freedom)\n",
    "\n",
    "# Calculate the confidence interval\n",
    "confidence_interval = (mean - margin_error, mean + margin_error)\n",
    "\n",
    "print(\"Average to difference of sold price between sell low policy and highlow policy:\", mean)\n",
    "\n",
    "print(\"C95% confidence interval for average of the difference of sold price between sell low policy and highlow policy:\", confidence_interval)"
   ]
  },
  {
   "cell_type": "code",
   "execution_count": null,
   "metadata": {
    "colab": {
     "base_uri": "https://localhost:8080/"
    },
    "id": "wRrP87nnu8lq",
    "outputId": "0f81b757-bdcb-4932-ed4d-6f50f203a99b"
   },
   "outputs": [
    {
     "name": "stdout",
     "output_type": "stream",
     "text": [
      "Average to difference of sold price between high-low policy and tracking policy: 1.2849999999999995\n",
      "C95% confidence interval for average of the difference of sold price between highlow policy and tracking policy: (-0.32201372619522894, 2.892013726195228)\n"
     ]
    }
   ],
   "source": [
    "\n",
    "mean = np.mean(pricedelta_hltr)\n",
    "\n",
    "sem = stats.sem(pricedelta_hltr)\n",
    "\n",
    "confidence_level = 0.95\n",
    "degrees_of_freedom = len(pricedelta_hltr) - 1\n",
    "\n",
    "# Calculate the margin of error\n",
    "margin_error = sem * stats.t.ppf((1 + confidence_level) / 2, degrees_of_freedom)\n",
    "\n",
    "# Calculate the confidence interval\n",
    "confidence_interval = (mean - margin_error, mean + margin_error)\n",
    "\n",
    "print(\"Average to difference of sold price between high-low policy and tracking policy:\", mean)\n",
    "\n",
    "print(\"C95% confidence interval for average of the difference of sold price between highlow policy and tracking policy:\", confidence_interval)"
   ]
  },
  {
   "cell_type": "code",
   "execution_count": null,
   "metadata": {
    "colab": {
     "base_uri": "https://localhost:8080/"
    },
    "id": "m-Ia4Ru_xFZP",
    "outputId": "83c4593c-c64e-4d01-c5f6-f86cf424d328"
   },
   "outputs": [
    {
     "name": "stdout",
     "output_type": "stream",
     "text": [
      "Average to difference of sold price between tracking policy and sell low: 0.0\n",
      "C95% confidence interval for average of the difference of sold price between tracking policy and sell low policy: (0.0, 0.0)\n"
     ]
    }
   ],
   "source": [
    "\n",
    "mean = np.mean(pricedelta_trsl)\n",
    "\n",
    "sem = stats.sem(pricedelta_trsl)\n",
    "\n",
    "confidence_level = 0.95\n",
    "degrees_of_freedom = len(pricedelta_trsl) - 1\n",
    "\n",
    "# Calculate the margin of error\n",
    "margin_error = sem * stats.t.ppf((1 + confidence_level) / 2, degrees_of_freedom)\n",
    "\n",
    "# Calculate the confidence interval\n",
    "confidence_interval = (mean - margin_error, mean + margin_error)\n",
    "\n",
    "print(\"Average to difference of sold price between tracking policy and sell low:\", mean)\n",
    "\n",
    "print(\"C95% confidence interval for average of the difference of sold price between tracking policy and sell low policy:\", confidence_interval)"
   ]
  },
  {
   "cell_type": "code",
   "execution_count": null,
   "metadata": {
    "colab": {
     "base_uri": "https://localhost:8080/"
    },
    "id": "nn9R7mvtSJil",
    "outputId": "0fda6491-6aa4-4ea2-e309-37f008973cbf"
   },
   "outputs": [
    {
     "name": "stdout",
     "output_type": "stream",
     "text": [
      "Average t sold price for sell low policy: 45.202\n",
      "C95% Average t sold price for sell low policy: (43.139014643559335, 47.26498535644066)\n"
     ]
    }
   ],
   "source": [
    "\n",
    "mean = np.mean(SL_results)\n",
    "\n",
    "sem = stats.sem(SL_results)\n",
    "\n",
    "confidence_level = 0.95\n",
    "degrees_of_freedom = len(SL_results) - 1\n",
    "\n",
    "# Calculate the margin of error\n",
    "margin_error = sem * stats.t.ppf((1 + confidence_level) / 2, degrees_of_freedom)\n",
    "\n",
    "# Calculate the confidence interval\n",
    "confidence_interval = (mean - margin_error, mean + margin_error)\n",
    "\n",
    "print(\"Average sold price for sell low policy:\", mean)\n",
    "\n",
    "print(\"C95% Average sold price for sell low policy:\", confidence_interval)"
   ]
  },
  {
   "cell_type": "code",
   "execution_count": null,
   "metadata": {
    "colab": {
     "base_uri": "https://localhost:8080/"
    },
    "id": "fMABQJaxSaf0",
    "outputId": "51f6a793-f3c7-4b75-d0f5-8d43cddef1d2"
   },
   "outputs": [
    {
     "name": "stdout",
     "output_type": "stream",
     "text": [
      "Average t sold price for high low policy: 46.547\n",
      "C95% Average t sold price for high low policy: (45.42614202500944, 47.667857974990554)\n"
     ]
    }
   ],
   "source": [
    "\n",
    "mean = np.mean(HL_results)\n",
    "\n",
    "sem = stats.sem(HL_results)\n",
    "\n",
    "confidence_level = 0.95\n",
    "degrees_of_freedom = len(HL_results) - 1\n",
    "\n",
    "# Calculate the margin of error\n",
    "margin_error = sem * stats.t.ppf((1 + confidence_level) / 2, degrees_of_freedom)\n",
    "\n",
    "# Calculate the confidence interval\n",
    "confidence_interval = (mean - margin_error, mean + margin_error)\n",
    "\n",
    "print(\"Average sold price for high low policy:\", mean)\n",
    "\n",
    "print(\"C95% Average sold price for high low policy:\", confidence_interval)"
   ]
  },
  {
   "cell_type": "code",
   "execution_count": null,
   "metadata": {
    "colab": {
     "base_uri": "https://localhost:8080/"
    },
    "id": "f4EckO2kSjI3",
    "outputId": "2c1700f3-20d9-4287-d2ab-a7b743d604fa",
    "scrolled": true
   },
   "outputs": [
    {
     "name": "stdout",
     "output_type": "stream",
     "text": [
      "Average t sold price for high low policy: 45.262\n",
      "C95% Average t sold price for high low policy: (43.27348564793153, 47.25051435206847)\n"
     ]
    }
   ],
   "source": [
    "\n",
    "mean = np.mean(TR_results)\n",
    "\n",
    "sem = stats.sem(TR_results)\n",
    "\n",
    "confidence_level = 0.95\n",
    "degrees_of_freedom = len(TR_results) - 1\n",
    "\n",
    "# Calculate the margin of error\n",
    "margin_error = sem * stats.t.ppf((1 + confidence_level) / 2, degrees_of_freedom)\n",
    "\n",
    "# Calculate the confidence interval\n",
    "confidence_interval = (mean - margin_error, mean + margin_error)\n",
    "\n",
    "print(\"Average sold price for tracking policy:\", mean)\n",
    "\n",
    "print(\"C95% Average sold price for tracking policy:\", confidence_interval)"
   ]
  },
  {
   "cell_type": "markdown",
   "metadata": {
    "id": "ikPhX4Eq8D1z"
   },
   "source": []
  },
  {
   "cell_type": "markdown",
   "metadata": {
    "id": "i1U9catNbR4B"
   },
   "source": [
    "## Question 1.2\n"
   ]
  },
  {
   "cell_type": "code",
   "execution_count": null,
   "metadata": {
    "id": "3CpDfC5hbT2C"
   },
   "outputs": [],
   "source": [
    "import numpy as np\n",
    "\n",
    "# The Params\n",
    "mean = 40\n",
    "std_dev = 2\n",
    "sample_size = 40000\n",
    "\n",
    "# Generate the sample\n",
    "np.random.seed(42)\n",
    "sample = np.random.normal(mean, std_dev, sample_size)\n",
    "\n",
    "# Reshape the sample into an array with columns t1 to t8\n",
    "num_columns = 8\n",
    "num_rows = sample_size // num_columns\n",
    "\n",
    "# Reshape the sample\n",
    "price_paths = np.reshape(sample, (num_rows, num_columns))\n"
   ]
  },
  {
   "cell_type": "code",
   "execution_count": null,
   "metadata": {
    "id": "8k3N3pCkTOhd"
   },
   "outputs": [],
   "source": [
    "df_smoothedPrice = Smooth_price(pd.DataFrame(price_paths), 0.1, errors)\n",
    "smoothedPrice = np.array(df_smoothedPrice)"
   ]
  },
  {
   "cell_type": "code",
   "execution_count": null,
   "metadata": {
    "colab": {
     "base_uri": "https://localhost:8080/"
    },
    "id": "H1EIeahkv9rQ",
    "outputId": "62f40791-8a3b-4747-eacf-8a40c602ef7e"
   },
   "outputs": [
    {
     "name": "stdout",
     "output_type": "stream",
     "text": [
      "Best Theta Low:for sell low policy 44.997176732861305\n",
      "Best Average Performance: for sell low policy 39.9365149066624\n",
      "Best Theta Low for high-low policy: 35.109958286584806\n",
      "Best Theta High for high-low policy: 41.36885630068807\n",
      "Best Average Performancefor high-low policy: 42.04149196845273\n",
      "Best Theta Track:for tracking policy 7.319939418114051\n",
      "Best Average Performance: for tracking policy 39.983321145213246\n"
     ]
    }
   ],
   "source": [
    "\n",
    "# Define the number of simulations, price paths, and time periods\n",
    "num_simulations = 1000\n",
    "num_price_paths = price_paths.shape[0]\n",
    "num_time_periods = price_paths.shape[1]\n",
    "\n",
    "# Initialize variables\n",
    "best_theta_low = None\n",
    "best_theta_high = None\n",
    "best_theta_track = None\n",
    "best_average_performance = -np.inf\n",
    "best_average_performance_a= -np.inf\n",
    "best_average_performance_c= -np.inf\n",
    "\n",
    "# Perform Monte Carlo simulations\n",
    "np.random.seed(42)\n",
    "for _ in range(num_simulations):\n",
    "    theta_low = np.random.uniform(35, 45)\n",
    "    theta_high = np.random.uniform(40, 50)\n",
    "    theta_track = np.random.uniform(0, 10)\n",
    "\n",
    "    policy_b_results = []\n",
    "    policy_a_results = []\n",
    "    policy_c_results = []\n",
    "    for n in range(num_price_paths):\n",
    "        price_path = price_paths[n]\n",
    "        smoothed_Prices = smoothedPrice[n]\n",
    "        Rt = 1\n",
    "        Rtb = 1\n",
    "        Rtc = 1\n",
    "        for t in range(num_time_periods):\n",
    "            price = price_path[t]\n",
    "            smoothed_price = smoothed_Prices[t-1]\n",
    "            time = 0\n",
    "            # \"sell low\" policy\n",
    "            if price < theta_low and Rt == 1:\n",
    "                policy_b_results.append(price)\n",
    "                Rt = 0\n",
    "            if t == num_time_periods-1 and Rt == 1:\n",
    "                Rt = 0\n",
    "                policy_b_results.append(price)\n",
    "            # high low policy\n",
    "            if (price < theta_low and Rtb == 1) or (price > theta_high and Rtb == 1) :\n",
    "                policy_a_results.append(price)\n",
    "                Rtb = 0\n",
    "            if t == num_time_periods-1 and Rtb == 1:\n",
    "                Rtb = 0\n",
    "                policy_a_results.append(price)\n",
    "            # tracking policy\n",
    "            if t > 0 and time > 0 and price >= smoothed_price + theta_track and Rtc == 1:\n",
    "              Rtc = 0\n",
    "              policy_c_results.append(price)\n",
    "            time = time + 1\n",
    "            if t == num_time_periods-1 and Rtc == 1:\n",
    "              Rtc = 0\n",
    "              policy_c_results.append(price)\n",
    "    # Calculate the average performance measure sell low policy\n",
    "    average_performance = np.mean(policy_b_results)\n",
    "\n",
    "    if average_performance > best_average_performance:\n",
    "        best_average_performance = average_performance\n",
    "        best_theta_low = theta_low\n",
    "\n",
    "    # Calculate the average performance measure high low policy\n",
    "    average_performance_a = np.mean(policy_a_results)\n",
    "\n",
    "    if average_performance_a > best_average_performance_a:\n",
    "        best_average_performance_a = average_performance_a\n",
    "        best_theta_low_a = theta_low\n",
    "        best_theta_high_a = theta_high\n",
    "    # Calculate the average performance measure tracking policy\n",
    "    average_performance_c = np.mean(policy_c_results)\n",
    "\n",
    "    if average_performance_c > best_average_performance_c:\n",
    "        best_average_performance_c = average_performance_c\n",
    "        best_theta_track_c = theta_track\n",
    "\n",
    "# the best parameter\n",
    "print(\"Best Theta Low:for sell low policy\", best_theta_low)\n",
    "print(\"Best Average Performance: for sell low policy\", best_average_performance)\n",
    "\n",
    "print(\"Best Theta Low for high-low policy:\", best_theta_low_a)\n",
    "print(\"Best Theta High for high-low policy:\", best_theta_high_a)\n",
    "print(\"Best Average Performancefor high-low policy:\", best_average_performance_a)\n",
    "\n",
    "print(\"Best Theta Track:for tracking policy\", best_theta_track_c)\n",
    "print(\"Best Average Performance: for tracking policy\", best_average_performance_c)\n"
   ]
  },
  {
   "cell_type": "code",
   "execution_count": null,
   "metadata": {
    "id": "mgRZgabawgmy"
   },
   "outputs": [],
   "source": [
    "np.random.seed(42)\n",
    "SL_results = []\n",
    "HL_results = []\n",
    "TR_results= []\n",
    "pricedelta_hlsl = []\n",
    "pricedelta_trsl = []\n",
    "pricedelta_hlsl = []\n",
    "pricedelta_hltr = []\n",
    "for n in range(num_price_paths):\n",
    "        price_path = price_paths[n]\n",
    "        smoothed_Prices = smoothedPrice[n]\n",
    "        Rt = 1\n",
    "        Rtb = 1\n",
    "        Rtc = 1\n",
    "        for t in range(num_time_periods):\n",
    "            price = price_path[t]\n",
    "            smoothed_price = smoothed_Prices[t-1]\n",
    "            time = 0\n",
    "            # \"sell low\" policy\n",
    "            if price < best_theta_low and Rt == 1:\n",
    "                Rt = 0\n",
    "                price_sl = price\n",
    "            if t == num_time_periods-1 and Rt == 1:\n",
    "                Rt = 0\n",
    "                price_sl = price\n",
    "            # high low policy\n",
    "            if (price < best_theta_low_a and Rtb == 1) or (price > best_theta_high_a and Rtb == 1) :\n",
    "                Rtb = 0\n",
    "                price_hl = price\n",
    "            if t == num_time_periods-1 and Rtb == 1:\n",
    "                Rtb = 0\n",
    "                price_hl = price\n",
    "            # tracking policy\n",
    "            if (t > 0 and time > 0 and price < smoothed_price + best_theta_track_c and Rtc == 1):\n",
    "              Rtc = 0\n",
    "              price_tr = price\n",
    "            time = time + 1\n",
    "            if (t == num_time_periods-1 and Rtc == 1):\n",
    "              Rtc = 0\n",
    "              price_tr = price\n",
    "\n",
    "        SL_results.append(price_sl)\n",
    "        HL_results.append(price_hl)\n",
    "        TR_results.append(price_tr)\n",
    "        pricedelta_HL_SL = price_hl - price_sl\n",
    "        pricedelta_hlsl.append(pricedelta_HL_SL)\n",
    "        pricedelta_HL_TR = price_hl - price_tr\n",
    "        pricedelta_hltr.append(pricedelta_HL_TR)\n",
    "        pricedelta_TR_SL = price_tr - price_sl\n",
    "        pricedelta_trsl.append(pricedelta_TR_SL)\n",
    "\n",
    "\n"
   ]
  },
  {
   "cell_type": "code",
   "execution_count": null,
   "metadata": {
    "colab": {
     "base_uri": "https://localhost:8080/"
    },
    "id": "DViX9Olswy7c",
    "outputId": "126f4174-d9d0-4e43-c2f2-26fbd8ed7e14"
   },
   "outputs": [
    {
     "name": "stdout",
     "output_type": "stream",
     "text": [
      "Average to difference of sold price between sell low policy and highlow policy: 2.1049770617903327\n",
      "C95% confidence interval for average of the difference of sold price between sell low policy and highlow policy: (2.038813356939611, 2.1711407666410545)\n"
     ]
    }
   ],
   "source": [
    "\n",
    "mean = np.mean(pricedelta_hlsl)\n",
    "\n",
    "sem = stats.sem(pricedelta_hlsl)\n",
    "\n",
    "confidence_level = 0.95\n",
    "degrees_of_freedom = len(pricedelta_hlsl) - 1\n",
    "\n",
    "# Calculate the margin of error\n",
    "margin_error = sem * stats.t.ppf((1 + confidence_level) / 2, degrees_of_freedom)\n",
    "\n",
    "# Calculate the confidence interval\n",
    "confidence_interval = (mean - margin_error, mean + margin_error)\n",
    "\n",
    "print(\"Average to difference of sold price between sell low policy and highlow policy:\", mean)\n",
    "\n",
    "print(\"C95% confidence interval for average of the difference of sold price between sell low policy and highlow policy:\", confidence_interval)"
   ]
  },
  {
   "cell_type": "code",
   "execution_count": null,
   "metadata": {
    "colab": {
     "base_uri": "https://localhost:8080/"
    },
    "id": "L487ed-Hw9cI",
    "outputId": "3fb53805-9b83-4c31-a28b-28f0e9e07cb0"
   },
   "outputs": [
    {
     "name": "stdout",
     "output_type": "stream",
     "text": [
      "Average to difference of sold price between high-low policy and tracking policy: 2.058170823239482\n",
      "C95% confidence interval for average of the difference of sold price between highlow policy and tracking policy: (1.9876355757950148, 2.128706070683949)\n"
     ]
    }
   ],
   "source": [
    "\n",
    "mean = np.mean(pricedelta_hltr)\n",
    "\n",
    "sem = stats.sem(pricedelta_hltr)\n",
    "\n",
    "confidence_level = 0.95\n",
    "degrees_of_freedom = len(pricedelta_hltr) - 1\n",
    "\n",
    "# Calculate the margin of error\n",
    "margin_error = sem * stats.t.ppf((1 + confidence_level) / 2, degrees_of_freedom)\n",
    "\n",
    "# Calculate the confidence interval\n",
    "confidence_interval = (mean - margin_error, mean + margin_error)\n",
    "\n",
    "print(\"Average to difference of sold price between high-low policy and tracking policy:\", mean)\n",
    "\n",
    "print(\"C95% confidence interval for average of the difference of sold price between highlow policy and tracking policy:\", confidence_interval)"
   ]
  },
  {
   "cell_type": "code",
   "execution_count": null,
   "metadata": {
    "colab": {
     "base_uri": "https://localhost:8080/"
    },
    "id": "OeGLlDFhxelW",
    "outputId": "4127102f-7052-4f04-9739-27ca63c69ee6"
   },
   "outputs": [
    {
     "name": "stdout",
     "output_type": "stream",
     "text": [
      "Average to difference of sold price between tracking policy and sell low: 0.04680623855085087\n",
      "C95% confidence interval for average of the difference of sold price between tracking policy and sell low policy: (-0.03120659066028362, 0.12481906776198537)\n"
     ]
    }
   ],
   "source": [
    "\n",
    "mean = np.mean(pricedelta_trsl)\n",
    "\n",
    "sem = stats.sem(pricedelta_trsl)\n",
    "\n",
    "confidence_level = 0.95\n",
    "degrees_of_freedom = len(pricedelta_trsl) - 1\n",
    "\n",
    "# Calculate the margin of error\n",
    "margin_error = sem * stats.t.ppf((1 + confidence_level) / 2, degrees_of_freedom)\n",
    "\n",
    "# Calculate the confidence interval\n",
    "confidence_interval = (mean - margin_error, mean + margin_error)\n",
    "\n",
    "print(\"Average to difference of sold price between tracking policy and sell low:\", mean)\n",
    "\n",
    "print(\"C95% confidence interval for average of the difference of sold price between tracking policy and sell low policy:\", confidence_interval)"
   ]
  },
  {
   "cell_type": "code",
   "execution_count": null,
   "metadata": {
    "colab": {
     "base_uri": "https://localhost:8080/"
    },
    "id": "ibjRUIpYT1Bq",
    "outputId": "347fe1ca-43cd-4f80-bea6-ca0b0ef76dfe"
   },
   "outputs": [
    {
     "name": "stdout",
     "output_type": "stream",
     "text": [
      "Average sold price for sell low policy: 39.9365149066624\n",
      "C95% Average sold price for sell low policy: (39.88212009781862, 39.990909715506184)\n"
     ]
    }
   ],
   "source": [
    "\n",
    "mean = np.mean(SL_results)\n",
    "\n",
    "sem = stats.sem(SL_results)\n",
    "\n",
    "confidence_level = 0.95\n",
    "degrees_of_freedom = len(SL_results) - 1\n",
    "\n",
    "# Calculate the margin of error\n",
    "margin_error = sem * stats.t.ppf((1 + confidence_level) / 2, degrees_of_freedom)\n",
    "\n",
    "# Calculate the confidence interval\n",
    "confidence_interval = (mean - margin_error, mean + margin_error)\n",
    "\n",
    "print(\"Average sold price for sell low policy:\", mean)\n",
    "\n",
    "print(\"C95% Average sold price for sell low policy:\", confidence_interval)"
   ]
  },
  {
   "cell_type": "code",
   "execution_count": null,
   "metadata": {
    "colab": {
     "base_uri": "https://localhost:8080/"
    },
    "id": "ixMaUTWhT1Bs",
    "outputId": "9ea85e33-6690-4064-d64b-2a5de4cdf777"
   },
   "outputs": [
    {
     "name": "stdout",
     "output_type": "stream",
     "text": [
      "Average t sold price for high low policy: 42.04149196845273\n",
      "C95% Average t sold price for high low policy: (41.9900550893225, 42.09292884758296)\n"
     ]
    }
   ],
   "source": [
    "\n",
    "mean = np.mean(HL_results)\n",
    "\n",
    "sem = stats.sem(HL_results)\n",
    "\n",
    "confidence_level = 0.95\n",
    "degrees_of_freedom = len(HL_results) - 1\n",
    "\n",
    "# Calculate the margin of error\n",
    "margin_error = sem * stats.t.ppf((1 + confidence_level) / 2, degrees_of_freedom)\n",
    "\n",
    "# Calculate the confidence interval\n",
    "confidence_interval = (mean - margin_error, mean + margin_error)\n",
    "\n",
    "print(\"Average t sold price for high low policy:\", mean)\n",
    "\n",
    "print(\"C95% Average t sold price for high low policy:\", confidence_interval)"
   ]
  },
  {
   "cell_type": "code",
   "execution_count": null,
   "metadata": {
    "colab": {
     "base_uri": "https://localhost:8080/"
    },
    "id": "5KhN9CkpT1Bu",
    "outputId": "7bb8a58c-071e-4401-8dbf-4f70750b0503",
    "scrolled": true
   },
   "outputs": [
    {
     "name": "stdout",
     "output_type": "stream",
     "text": [
      "Average t sold price for tracking policy: 39.983321145213246\n",
      "C95% Average t sold price for tracking policy: (39.928275566837996, 40.038366723588496)\n"
     ]
    }
   ],
   "source": [
    "\n",
    "mean = np.mean(TR_results)\n",
    "\n",
    "sem = stats.sem(TR_results)\n",
    "\n",
    "confidence_level = 0.95\n",
    "degrees_of_freedom = len(TR_results) - 1\n",
    "\n",
    "# Calculate the margin of error\n",
    "margin_error = sem * stats.t.ppf((1 + confidence_level) / 2, degrees_of_freedom)\n",
    "\n",
    "# Calculate the confidence interval\n",
    "confidence_interval = (mean - margin_error, mean + margin_error)\n",
    "\n",
    "print(\"Average sold price for tracking policy:\", mean)\n",
    "\n",
    "print(\"C95% Average sold price for tracking policy:\", confidence_interval)"
   ]
  },
  {
   "cell_type": "markdown",
   "metadata": {
    "id": "P6IVC8Aw9Xz7"
   },
   "source": []
  },
  {
   "cell_type": "markdown",
   "metadata": {
    "id": "_DrpN8lucYwL"
   },
   "source": [
    "## Question 1.3"
   ]
  },
  {
   "cell_type": "code",
   "execution_count": null,
   "metadata": {
    "colab": {
     "base_uri": "https://localhost:8080/"
    },
    "id": "zsG-gHDkov5z",
    "outputId": "c93927bc-276d-4d08-cc84-f7f062ab3990"
   },
   "outputs": [
    {
     "name": "stdout",
     "output_type": "stream",
     "text": [
      "Generated Price Paths (First Path):\n",
      "[43.80947533 41.38803051 40.47046604 43.39300859 42.87993875]\n"
     ]
    }
   ],
   "source": [
    "\n",
    "\n",
    "# The parameters\n",
    "theta0 = 0.5\n",
    "theta1 = 0.3\n",
    "theta2 = 0.2\n",
    "sigma = 2\n",
    "sample_size = 25000\n",
    "num_cols = 5\n",
    "num_rows = 5000\n",
    "# Generate the sample of random noise εt+1\n",
    "np.random.seed(42)\n",
    "epsilon = np.random.normal(0, sigma, 40000)\n",
    "epsilons = np.reshape(epsilon, (5000, 8))\n",
    "price_history = []\n",
    "# Generate price paths\n",
    "for n in range(num_rows):\n",
    "    # p0 for the first three time periods\n",
    "    price_path = price_paths[n]\n",
    "    epsilon = epsilons[n]\n",
    "    # Generate the price path\n",
    "    for i in range(3, 8):\n",
    "      pt= theta0 * price_path[i-1] + theta1 * price_path[i-2] + theta2 * price_path[i-3] + epsilon[i]\n",
    "      price_history.append(pt)\n",
    "\n",
    "price_histories = np.array(price_history)\n",
    "\n",
    "# Reshape the sample into an array with columns t3 to t8\n",
    "\n",
    "price_histories = np.reshape(price_histories, (num_rows, num_cols))\n",
    "\n",
    "# Print\n",
    "print(\"Generated Price Paths (First Path):\")\n",
    "print(price_histories[0,])\n"
   ]
  },
  {
   "cell_type": "code",
   "execution_count": null,
   "metadata": {
    "id": "zI5STkB8kdc2"
   },
   "outputs": [],
   "source": [
    "# now we replace price_paths by price_histories and run the code\n",
    "\n",
    "price_paths = price_histories"
   ]
  },
  {
   "cell_type": "code",
   "execution_count": null,
   "metadata": {
    "id": "dM6k3W3QbNCU"
   },
   "outputs": [],
   "source": [
    "df_smoothedPrice = Smooth_price(pd.DataFrame(price_paths), 0.1, errors)\n",
    "smoothedPrice = np.array(df_smoothedPrice)"
   ]
  },
  {
   "cell_type": "code",
   "execution_count": null,
   "metadata": {
    "colab": {
     "base_uri": "https://localhost:8080/"
    },
    "id": "QNA8xeD5x5F1",
    "outputId": "c60c38ca-fe67-4718-b5d9-c7d257b28b6b"
   },
   "outputs": [
    {
     "name": "stdout",
     "output_type": "stream",
     "text": [
      "Best Theta Low:for sell low policy 44.997176732861305\n",
      "Best Average Performance: for sell low policy 39.94350283043854\n",
      "Best Theta Low for high-low policy: 35.19710537754364\n",
      "Best Theta High for high-low policy: 41.04108581984574\n",
      "Best Average Performancefor high-low policy: 41.08394752454364\n",
      "Best Theta Track:for tracking policy 7.319939418114051\n",
      "Best Average Performance: for tracking policy 39.986955152426866\n"
     ]
    }
   ],
   "source": [
    "\n",
    "# Define the number of simulations, price paths, and time periods\n",
    "num_simulations = 1000\n",
    "num_price_paths = price_paths.shape[0]\n",
    "num_time_periods = price_paths.shape[1]\n",
    "\n",
    "# Initialize variables\n",
    "best_theta_low = None\n",
    "best_theta_high = None\n",
    "best_theta_track = None\n",
    "best_average_performance = -np.inf\n",
    "best_average_performance_a= -np.inf\n",
    "best_average_performance_c= -np.inf\n",
    "\n",
    "# Perform Monte Carlo simulations\n",
    "np.random.seed(42)\n",
    "for _ in range(num_simulations):\n",
    "    theta_low = np.random.uniform(35, 45)\n",
    "    theta_high = np.random.uniform(40, 50)\n",
    "    theta_track = np.random.uniform(0, 10)\n",
    "\n",
    "    policy_b_results = []\n",
    "    policy_a_results = []\n",
    "    policy_c_results = []\n",
    "    for n in range(num_price_paths):\n",
    "        price_path = price_paths[n]\n",
    "        smoothed_Prices = smoothedPrice[n]\n",
    "        Rt = 1\n",
    "        Rtb = 1\n",
    "        Rtc = 1\n",
    "        for t in range(num_time_periods):\n",
    "            price = price_path[t]\n",
    "            smoothed_price = smoothed_Prices[t-1]\n",
    "            time = 0\n",
    "            # \"sell low\" policy\n",
    "            if price < theta_low and Rt == 1:\n",
    "                policy_b_results.append(price)\n",
    "                Rt = 0\n",
    "            if t == num_time_periods-1 and Rt == 1:\n",
    "                Rt = 0\n",
    "                policy_b_results.append(price)\n",
    "            # high low policy\n",
    "            if (price < theta_low and Rtb == 1) or (price > theta_high and Rtb == 1) :\n",
    "                policy_a_results.append(price)\n",
    "                Rtb = 0\n",
    "            if t == num_time_periods-1 and Rtb == 1:\n",
    "                Rtb = 0\n",
    "                policy_a_results.append(price)\n",
    "            # tracking policy\n",
    "            if t > 0 and time > 0 and price >= smoothed_price + theta_track and Rtc == 1:\n",
    "              Rtc = 0\n",
    "              policy_c_results.append(price)\n",
    "            time = time + 1\n",
    "            if t == num_time_periods-1 and Rtc == 1:\n",
    "              Rtc = 0\n",
    "              policy_c_results.append(price)\n",
    "    # Calculate the average performance measure sell low policy\n",
    "    average_performance = np.mean(policy_b_results)\n",
    "\n",
    "    if average_performance > best_average_performance:\n",
    "        best_average_performance = average_performance\n",
    "        best_theta_low = theta_low\n",
    "\n",
    "    # Calculate the average performance measure high low policy\n",
    "    average_performance_a = np.mean(policy_a_results)\n",
    "\n",
    "    if average_performance_a > best_average_performance_a:\n",
    "        best_average_performance_a = average_performance_a\n",
    "        best_theta_low_a = theta_low\n",
    "        best_theta_high_a = theta_high\n",
    "    # Calculate the average performance measure tracking policy\n",
    "    average_performance_c = np.mean(policy_c_results)\n",
    "\n",
    "    if average_performance_c > best_average_performance_c:\n",
    "        best_average_performance_c = average_performance_c\n",
    "        best_theta_track_c = theta_track\n",
    "\n",
    "# the best parameter\n",
    "print(\"Best Theta Low:for sell low policy\", best_theta_low)\n",
    "print(\"Best Average Performance: for sell low policy\", best_average_performance)\n",
    "\n",
    "print(\"Best Theta Low for high-low policy:\", best_theta_low_a)\n",
    "print(\"Best Theta High for high-low policy:\", best_theta_high_a)\n",
    "print(\"Best Average Performancefor high-low policy:\", best_average_performance_a)\n",
    "\n",
    "print(\"Best Theta Track:for tracking policy\", best_theta_track_c)\n",
    "print(\"Best Average Performance: for tracking policy\", best_average_performance_c)\n"
   ]
  },
  {
   "cell_type": "code",
   "execution_count": null,
   "metadata": {
    "id": "TQY1weAQyKLS"
   },
   "outputs": [],
   "source": [
    "np.random.seed(42)\n",
    "SL_results = []\n",
    "HL_results = []\n",
    "TR_results= []\n",
    "pricedelta_hlsl = []\n",
    "pricedelta_trsl = []\n",
    "pricedelta_hlsl = []\n",
    "pricedelta_hltr = []\n",
    "for n in range(num_price_paths):\n",
    "        price_path = price_paths[n]\n",
    "        smoothed_Prices = smoothedPrice[n]\n",
    "        Rt = 1\n",
    "        Rtb = 1\n",
    "        Rtc = 1\n",
    "        for t in range(num_time_periods):\n",
    "            price = price_path[t]\n",
    "            smoothed_price = smoothed_Prices[t-1]\n",
    "            time = 0\n",
    "            # \"sell low\" policy\n",
    "            if price < best_theta_low and Rt == 1:\n",
    "                Rt = 0\n",
    "                price_sl = price\n",
    "            if t == num_time_periods-1 and Rt == 1:\n",
    "                Rt = 0\n",
    "                price_sl = price\n",
    "            # high low policy\n",
    "            if (price < best_theta_low_a and Rtb == 1) or (price > best_theta_high_a and Rtb == 1) :\n",
    "                Rtb = 0\n",
    "                price_hl = price\n",
    "            if t == num_time_periods-1 and Rtb == 1:\n",
    "                Rtb = 0\n",
    "                price_hl = price\n",
    "            # tracking policy\n",
    "            if (t > 0 and time > 0 and price < smoothed_price + best_theta_track_c and Rtc == 1):\n",
    "              Rtc = 0\n",
    "              price_tr = price\n",
    "            time = time + 1\n",
    "            if (t == num_time_periods-1 and Rtc == 1):\n",
    "              Rtc = 0\n",
    "              price_tr = price\n",
    "\n",
    "        SL_results.append(price_sl)\n",
    "        HL_results.append(price_hl)\n",
    "        TR_results.append(price_tr)\n",
    "        pricedelta_HL_SL = price_hl - price_sl\n",
    "        pricedelta_hlsl.append(pricedelta_HL_SL)\n",
    "        pricedelta_HL_TR = price_hl - price_tr\n",
    "        pricedelta_hltr.append(pricedelta_HL_TR)\n",
    "        pricedelta_TR_SL = price_tr - price_sl\n",
    "        pricedelta_trsl.append(pricedelta_TR_SL)\n"
   ]
  },
  {
   "cell_type": "code",
   "execution_count": null,
   "metadata": {
    "colab": {
     "base_uri": "https://localhost:8080/"
    },
    "id": "b08OCCW3yZcl",
    "outputId": "4523953e-a557-4d5a-d4d2-7743e03404be"
   },
   "outputs": [
    {
     "name": "stdout",
     "output_type": "stream",
     "text": [
      "Average to difference of sold price between sell low policy and highlow policy: 1.140444694105105\n",
      "C95% confidence interval for average of the difference of sold price between sell low policy and highlow policy: (1.0728543036818758, 1.208035084528334)\n"
     ]
    }
   ],
   "source": [
    "\n",
    "mean = np.mean(pricedelta_hlsl)\n",
    "\n",
    "sem = stats.sem(pricedelta_hlsl)\n",
    "\n",
    "confidence_level = 0.95\n",
    "degrees_of_freedom = len(pricedelta_hlsl) - 1\n",
    "\n",
    "# Calculate the margin of error\n",
    "margin_error = sem * stats.t.ppf((1 + confidence_level) / 2, degrees_of_freedom)\n",
    "\n",
    "# Calculate the confidence interval\n",
    "confidence_interval = (mean - margin_error, mean + margin_error)\n",
    "\n",
    "print(\"Average to difference of sold price between sell low policy and highlow policy:\", mean)\n",
    "\n",
    "print(\"C95% confidence interval for average of the difference of sold price between sell low policy and highlow policy:\", confidence_interval)"
   ]
  },
  {
   "cell_type": "code",
   "execution_count": null,
   "metadata": {
    "colab": {
     "base_uri": "https://localhost:8080/"
    },
    "id": "F0YEeOSzyZcq",
    "outputId": "d38561d9-4833-4c33-8899-31c44c404521"
   },
   "outputs": [
    {
     "name": "stdout",
     "output_type": "stream",
     "text": [
      "Average to difference of sold price between high-low policy and tracking policy: 1.0969923721167758\n",
      "C95% confidence interval for average of the difference of sold price between highlow policy and tracking policy: (1.0196274763907167, 1.174357267842835)\n"
     ]
    }
   ],
   "source": [
    "\n",
    "mean = np.mean(pricedelta_hltr)\n",
    "\n",
    "sem = stats.sem(pricedelta_hltr)\n",
    "\n",
    "confidence_level = 0.95\n",
    "degrees_of_freedom = len(pricedelta_hltr) - 1\n",
    "\n",
    "# Calculate the margin of error\n",
    "margin_error = sem * stats.t.ppf((1 + confidence_level) / 2, degrees_of_freedom)\n",
    "\n",
    "# Calculate the confidence interval\n",
    "confidence_interval = (mean - margin_error, mean + margin_error)\n",
    "\n",
    "print(\"Average to difference of sold price between high-low policy and tracking policy:\", mean)\n",
    "\n",
    "print(\"C95% confidence interval for average of the difference of sold price between highlow policy and tracking policy:\", confidence_interval)"
   ]
  },
  {
   "cell_type": "code",
   "execution_count": null,
   "metadata": {
    "colab": {
     "base_uri": "https://localhost:8080/"
    },
    "id": "MnYFV9RUyZct",
    "outputId": "a46e799e-320c-41f2-8f56-94b0c52df6ba"
   },
   "outputs": [
    {
     "name": "stdout",
     "output_type": "stream",
     "text": [
      "Average to difference of sold price between tracking policy and sell low: 0.04345232198832933\n",
      "C95% confidence interval for average of the difference of sold price between tracking policy and sell low policy: (-0.04744952157948478, 0.13435416555614343)\n"
     ]
    }
   ],
   "source": [
    "\n",
    "mean = np.mean(pricedelta_trsl)\n",
    "\n",
    "sem = stats.sem(pricedelta_trsl)\n",
    "\n",
    "confidence_level = 0.95\n",
    "degrees_of_freedom = len(pricedelta_trsl) - 1\n",
    "\n",
    "# Calculate the margin of error\n",
    "margin_error = sem * stats.t.ppf((1 + confidence_level) / 2, degrees_of_freedom)\n",
    "\n",
    "# Calculate the confidence interval\n",
    "confidence_interval = (mean - margin_error, mean + margin_error)\n",
    "\n",
    "print(\"Average to difference of sold price between tracking policy and sell low:\", mean)\n",
    "\n",
    "print(\"C95% confidence interval for average of the difference of sold price between tracking policy and sell low policy:\", confidence_interval)"
   ]
  },
  {
   "cell_type": "code",
   "execution_count": null,
   "metadata": {
    "colab": {
     "base_uri": "https://localhost:8080/"
    },
    "id": "vvJ0M0fcWDS2",
    "outputId": "9f058e71-8303-4bf7-e521-49994fd3f002"
   },
   "outputs": [
    {
     "name": "stdout",
     "output_type": "stream",
     "text": [
      "Average sold price for sell low policy: 39.94350283043854\n",
      "C95% Average sold price for sell low policy: (39.88051417602937, 40.00649148484771)\n"
     ]
    }
   ],
   "source": [
    "\n",
    "mean = np.mean(SL_results)\n",
    "\n",
    "sem = stats.sem(SL_results)\n",
    "\n",
    "confidence_level = 0.95\n",
    "degrees_of_freedom = len(SL_results) - 1\n",
    "\n",
    "# Calculate the margin of error\n",
    "margin_error = sem * stats.t.ppf((1 + confidence_level) / 2, degrees_of_freedom)\n",
    "\n",
    "# Calculate the confidence interval\n",
    "confidence_interval = (mean - margin_error, mean + margin_error)\n",
    "\n",
    "print(\"Average sold price for sell low policy:\", mean)\n",
    "\n",
    "print(\"C95% Average sold price for sell low policy:\", confidence_interval)"
   ]
  },
  {
   "cell_type": "code",
   "execution_count": null,
   "metadata": {
    "colab": {
     "base_uri": "https://localhost:8080/"
    },
    "id": "2llRTDfoWDS5",
    "outputId": "6c6a61b3-ddab-4f7b-e97c-781e91051ac0"
   },
   "outputs": [
    {
     "name": "stdout",
     "output_type": "stream",
     "text": [
      "Average t sold price for high low policy: 41.08394752454364\n",
      "C95% Average t sold price for high low policy: (41.011132120505245, 41.15676292858203)\n"
     ]
    }
   ],
   "source": [
    "\n",
    "mean = np.mean(HL_results)\n",
    "\n",
    "sem = stats.sem(HL_results)\n",
    "\n",
    "confidence_level = 0.95\n",
    "degrees_of_freedom = len(HL_results) - 1\n",
    "\n",
    "# Calculate the margin of error\n",
    "margin_error = sem * stats.t.ppf((1 + confidence_level) / 2, degrees_of_freedom)\n",
    "\n",
    "# Calculate the confidence interval\n",
    "confidence_interval = (mean - margin_error, mean + margin_error)\n",
    "\n",
    "print(\"Average t sold price for high low policy:\", mean)\n",
    "\n",
    "print(\"C95% Average t sold price for high low policy:\", confidence_interval)"
   ]
  },
  {
   "cell_type": "code",
   "execution_count": null,
   "metadata": {
    "colab": {
     "base_uri": "https://localhost:8080/"
    },
    "id": "ppnhyMdNWDS6",
    "outputId": "1136763a-727a-4845-e902-c47085e5be18",
    "scrolled": true
   },
   "outputs": [
    {
     "name": "stdout",
     "output_type": "stream",
     "text": [
      "Average t sold price for tracking policy: 39.986955152426866\n",
      "C95% Average t sold price for tracking policy: (39.92205232729566, 40.05185797755807)\n"
     ]
    }
   ],
   "source": [
    "\n",
    "mean = np.mean(TR_results)\n",
    "\n",
    "sem = stats.sem(TR_results)\n",
    "\n",
    "confidence_level = 0.95\n",
    "degrees_of_freedom = len(TR_results) - 1\n",
    "\n",
    "# Calculate the margin of error\n",
    "margin_error = sem * stats.t.ppf((1 + confidence_level) / 2, degrees_of_freedom)\n",
    "\n",
    "# Calculate the confidence interval\n",
    "confidence_interval = (mean - margin_error, mean + margin_error)\n",
    "\n",
    "print(\"Average sold price for tracking policy:\", mean)\n",
    "\n",
    "print(\"C95% Average sold price for tracking policy:\", confidence_interval)"
   ]
  },
  {
   "cell_type": "markdown",
   "metadata": {
    "id": "VrPw73es-n90"
   },
   "source": []
  },
  {
   "cell_type": "code",
   "execution_count": null,
   "metadata": {
    "id": "BH72n9Q8--8O"
   },
   "outputs": [],
   "source": []
  }
 ],
 "metadata": {
  "colab": {
   "provenance": [],
   "toc_visible": true
  },
  "kernelspec": {
   "display_name": "Python 3",
   "language": "python",
   "name": "python3"
  },
  "language_info": {
   "codemirror_mode": {
    "name": "ipython",
    "version": 3
   },
   "file_extension": ".py",
   "mimetype": "text/x-python",
   "name": "python",
   "nbconvert_exporter": "python",
   "pygments_lexer": "ipython3",
   "version": "3.8.5"
  }
 },
 "nbformat": 4,
 "nbformat_minor": 1
}
